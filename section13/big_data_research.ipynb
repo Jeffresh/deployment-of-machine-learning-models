{
 "cells": [
  {
   "cell_type": "markdown",
   "metadata": {},
   "source": [
    "# Machine Learning Model Building Pipeline: Big Data, Images and Neural Networks\r\n"
   ]
  },
  {
   "cell_type": "markdown",
   "metadata": {},
   "source": [
    "## Imports"
   ]
  },
  {
   "cell_type": "code",
   "execution_count": 2,
   "metadata": {},
   "outputs": [],
   "source": [
    "import pandas as pd \r\n",
    "import numpy as np\r\n",
    "\r\n",
    "# navigate folders\r\n",
    "from glob import glob\r\n",
    "import os\r\n",
    "\r\n",
    "# for plotting \r\n",
    "import matplotlib.pyplot as plt \r\n",
    "%matplotlib inline\r\n",
    "\r\n",
    "# to open the images \r\n",
    "import cv2 \r\n",
    "\r\n",
    "# to display all the columns of the dataframe in the notebook\r\n",
    "pd.pandas.set_option('display.max_columns', None)"
   ]
  },
  {
   "cell_type": "raw",
   "metadata": {},
   "source": []
  }
 ],
 "metadata": {
  "kernelspec": {
   "display_name": "Python 3.8.6  ('.env': venv)",
   "metadata": {
    "interpreter": {
     "hash": "a062be9dc8f0b4e802ee41733a00058b9f58e2e67b7919a84fe2c611795dfe04"
    }
   },
   "name": "python3"
  },
  "language_info": {
   "codemirror_mode": {
    "name": "ipython",
    "version": 3
   },
   "file_extension": ".py",
   "mimetype": "text/x-python",
   "name": "python",
   "nbconvert_exporter": "python",
   "pygments_lexer": "ipython3",
   "version": "3.8.6"
  },
  "orig_nbformat": 2
 },
 "nbformat": 4,
 "nbformat_minor": 2
}
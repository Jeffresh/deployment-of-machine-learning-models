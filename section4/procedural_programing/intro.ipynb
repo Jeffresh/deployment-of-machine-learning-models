{
 "cells": [
  {
   "cell_type": "markdown",
   "metadata": {},
   "source": [
    "# Procedural Programming\r\n",
    "\r\n",
    "In procedural programming, procedures, also knows as routines, subroutines or functions, are carriud out as a series of computational steps.\r\n",
    "\r\n",
    "For us, it referes to writing the series of feature creation, feature transformation, model training and data scoring steps, as functions, that then we can call and run one after the other.\r\n"
   ]
  },
  {
   "cell_type": "markdown",
   "metadata": {},
   "source": [
    "## Train Script\r\n",
    "\r\n",
    "Calls the previous functions (functions developed in jupyter notebook and transformed into procedures) in order, to train and save the model"
   ]
  },
  {
   "cell_type": "raw",
   "metadata": {},
   "source": [
    "## Score Script\r\n",
    "\r\n",
    "Calls th previous functions in order, to score new data. Using the model saved in the train script."
   ]
  }
 ],
 "metadata": {
  "kernelspec": {
   "display_name": "Python 3",
   "name": "python3"
  },
  "language_info": {
   "name": "python",
   "nbconvert_exporter": "python",
   "version": "3.8.6-final"
  },
  "orig_nbformat": 2
 },
 "nbformat": 4,
 "nbformat_minor": 2
}
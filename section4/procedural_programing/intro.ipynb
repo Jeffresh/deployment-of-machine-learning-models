{
 "cells": [
  {
   "cell_type": "markdown",
   "metadata": {},
   "source": [
    "# Procedural Programming\r\n",
    "\r\n",
    "In procedural programming, procedures, also knows as routines, subroutines or functions, are carriud out as a series of computational steps.\r\n",
    "\r\n",
    "For us, it referes to writing the series of feature creation, feature transformation, model training and data scoring steps, as functions, that then we can call and run one after the other.\r\n"
   ]
  },
  {
   "cell_type": "markdown",
   "metadata": {},
   "source": [
    "## Train Script\r\n",
    "\r\n",
    "Calls the previous functions (functions developed in jupyter notebook and transformed into procedures) in order, to train and save the model"
   ]
  },
  {
   "cell_type": "markdown",
   "metadata": {},
   "source": [
    "## Score Script\r\n",
    "\r\n",
    "Calls th previous functions in order, to score new data. Using the model saved in the train script."
   ]
  },
  {
   "cell_type": "markdown",
   "metadata": {},
   "source": [
    "## Yaml file / configuration file\r\n",
    "\r\n",
    "- Hard coded variables to engineer, and values to use to transform features.\r\n",
    "- Hardcoded paths to retrieve and store data.\r\n",
    "- By changing these values, we can re-adjust our models\r\n"
   ]
  },
  {
   "cell_type": "markdown",
   "metadata": {},
   "source": [
    "## Advantages\r\n",
    "\r\n",
    "- Straightforward jupyter notebook.\r\n",
    "- No software development skills required.\r\n",
    "- Easy to manually check if it reproduces the original model."
   ]
  },
  {
   "cell_type": "markdown",
   "metadata": {},
   "source": [
    "## Disadvantages\r\n",
    "\r\n",
    "- Can get buggy.\r\n",
    "- Difficult to test.\r\n",
    "- Difficult to build software on top of it.\r\n",
    "- Need to save a lot of intermediate files to store the transformation parameters."
   ]
  },
  {
   "cell_type": "markdown",
   "metadata": {},
   "source": [
    "Procedural programming is not recommended but is a good way to start."
   ]
  }
 ],
 "metadata": {
  "kernelspec": {
   "display_name": "Python 3",
   "name": "python3"
  },
  "language_info": {
   "name": "python",
   "nbconvert_exporter": "python",
   "version": "3.8.6-final"
  },
  "orig_nbformat": 2
 },
 "nbformat": 4,
 "nbformat_minor": 2
}